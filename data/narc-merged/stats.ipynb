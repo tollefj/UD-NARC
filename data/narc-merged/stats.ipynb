{
 "cells": [
  {
   "cell_type": "code",
   "execution_count": 119,
   "metadata": {},
   "outputs": [],
   "source": [
    "sample_path = \"annotations_jsonlines_bokmaal/aftenposten_02.jsonl\""
   ]
  },
  {
   "cell_type": "code",
   "execution_count": 120,
   "metadata": {},
   "outputs": [],
   "source": [
    "import os\n",
    "import jsonlines"
   ]
  },
  {
   "cell_type": "code",
   "execution_count": 139,
   "metadata": {},
   "outputs": [],
   "source": [
    "m = {\"T1\": [[2, 2]], \"T2\": [[6, 7]], \"T3\": [[10, 10]], \"T4\": [[13, 13]], \"T5\": [[17, 19]], \"T6\": [[19, 19]], \"T7\": [[23, 23]], \"T8\": [[25, 26]], \"T9\": [[30, 30]], \"T10\": [[34, 34]], \"T11\": [[36, 36]], \"T12\": [[38, 38]], \"T13\": [[40, 48]], \"T14\": [[42, 48]], \"T15\": [[46, 48]], \"T16\": [[44, 44]], \"T17\": [[56, 57]], \"T18\": [[68, 70]], \"T19\": [[73, 74]], \"T21\": [[59, 60]], \"T22\": [[62, 63]], \"T23\": [[65, 66]], \"T24\": [[51, 51]], \"T25\": [[28, 28]], \"T26\": [[11, 11]], \"T20\": [[76, 78]], \"T28\": [[82, 86]], \"T29\": [[94, 94]], \"T30\": [[96, 97]], \"T31\": [[99, 103]], \"T35\": [[115, 118]], \"T36\": [[118, 118]], \"T37\": [[122, 123]], \"T38\": [[125, 128]], \"T41\": [[84, 86]], \"T42\": [[86, 86]], \"T43\": [[88, 90]], \"T44\": [[90, 90]], \"T45\": [[131, 134]], \"T47\": [[139, 139]], \"T49\": [[143, 145]], \"T48\": [[141, 145]], \"T50\": [[149, 151]], \"T51\": [[157, 161]], \"T52\": [[159, 159]], \"T53\": [[161, 161]], \"T54\": [[162, 162]], \"T56\": [[166, 166]], \"T57\": [[168, 168]], \"T58\": [[170, 172]], \"T61\": [[180, 183]], \"T63\": [[186, 196]], \"T64\": [[191, 196]], \"T67\": [[204, 207]], \"T68\": [[212, 212]], \"T70\": [[213, 222]], \"T71\": [[221, 222]], \"T72\": [[219, 219]], \"T73\": [[219, 222]], \"T74\": [[224, 225]], \"T75\": [[229, 231]], \"T76\": [[236, 238]], \"T77\": [[240, 240]], \"T78\": [[244, 250]], \"T79\": [[253, 257]], \"T81\": [[260, 260]], \"T82\": [[174, 174]], \"T83\": [[174, 183]], \"T60\": [[191, 191]], \"T84\": [[170, 171]], \"T59\": [[253, 253]], \"T85\": [[262, 262]], \"T86\": [[264, 272]], \"T87\": [[267, 272]], \"T88\": [[267, 268]], \"T90\": [[279, 280]], \"T91\": [[284, 284]], \"T92\": [[286, 291]], \"T93\": [[286, 286]], \"T96\": [[293, 293]], \"T97\": [[295, 295]], \"T98\": [[297, 297]], \"T99\": [[299, 299]], \"T100\": [[301, 305]], \"T101\": [[303, 305]], \"T102\": [[307, 308]], \"T103\": [[310, 313]], \"T104\": [[317, 317]], \"T105\": [[307, 307]], \"T106\": [[319, 320]], \"T107\": [[322, 324]], \"T108\": [[325, 325]], \"T109\": [[325, 328]], \"T110\": [[328, 328]], \"T111\": [[331, 331]], \"T112\": [[333, 334]], \"T113\": [[333, 333]], \"T114\": [[336, 336]], \"T115\": [[338, 340]], \"T116\": [[342, 343]], \"T117\": [[345, 346]], \"T118\": [[345, 345]], \"T40\": [[107, 107]], \"T55\": [[99, 99]], \"T66\": [[199, 207]], \"T33\": [[107, 118]], \"T119\": [[348, 350]], \"T120\": [[353, 353]], \"T121\": [[353, 354]], \"T122\": [[356, 358]], \"T123\": [[360, 360]], \"T124\": [[363, 366]], \"T125\": [[372, 374]], \"T127\": [[376, 378]], \"T128\": [[380, 383]], \"T130\": [[385, 385]], \"T131\": [[385, 386]], \"T132\": [[389, 390]], \"T133\": [[393, 393]], \"T135\": [[393, 405]], \"T136\": [[408, 410]], \"T137\": [[412, 415]], \"T140\": [[418, 418]], \"T141\": [[421, 422]], \"T142\": [[424, 429]], \"T143\": [[428, 429]], \"T144\": [[428, 428]], \"T145\": [[432, 434]], \"T146\": [[32, 32]], \"T32\": [[143, 143]], \"T34\": [[170, 170]], \"T27\": [[163, 163]]}"
   ]
  },
  {
   "cell_type": "code",
   "execution_count": 147,
   "metadata": {},
   "outputs": [
    {
     "data": {
      "text/plain": [
       "132"
      ]
     },
     "execution_count": 147,
     "metadata": {},
     "output_type": "execute_result"
    }
   ],
   "source": [
    "from collections import defaultdict\n",
    "def reverse_markables(markables):\n",
    "    # sort markables by the start index\n",
    "    reverse = defaultdict(list)\n",
    "    for key, value in markables.items():\n",
    "        start, end = value[0]\n",
    "        reverse[start].append(key)\n",
    "        if start != end:\n",
    "            reverse[end].append(key)\n",
    "    return reverse\n",
    "\n",
    "    \n",
    "_m = reverse_markables(m)\n",
    "\n",
    "def flatten(l):\n",
    "    return [item for sublist in l for item in sublist]\n",
    "\n",
    "flat_vals = flatten(_m.values())\n",
    "len(flat_vals)\n",
    "len(m)"
   ]
  },
  {
   "cell_type": "code",
   "execution_count": 148,
   "metadata": {},
   "outputs": [
    {
     "data": {
      "text/plain": [
       "57"
      ]
     },
     "execution_count": 148,
     "metadata": {},
     "output_type": "execute_result"
    }
   ],
   "source": [
    "# non-singleton entities:\n",
    "singletons = [k for k, v in m.items() if v[0][0] == v[0][1]]\n",
    "len(singletons)"
   ]
  },
  {
   "cell_type": "code",
   "execution_count": 151,
   "metadata": {},
   "outputs": [
    {
     "data": {
      "text/plain": [
       "69"
      ]
     },
     "execution_count": 151,
     "metadata": {},
     "output_type": "execute_result"
    }
   ],
   "source": [
    "c = [[[65, 81], [170, 172], [82, 85]], [[177, 193], [11, 25], [522, 546], [107, 131]], [[1363, 1366], [1311, 1395]], [[1517, 1554], [1614, 1621]], [[748, 775], [2053, 2066]], [[2104, 2129], [1061, 1132], [2161, 2164]], [[1488, 1499], [1427, 1448], [2034, 2045], [1736, 1747]], [[589, 600], [506, 546], [326, 328], [1299, 1310]], [[124, 131], [539, 546]], [[959, 970], [2705, 2712], [662, 669], [621, 628], [404, 429]], [[2213, 2216], [1565, 1599], [1640, 1654], [2176, 2199]], [[606, 617], [1986, 1997], [370, 381]], [[384, 400], [949, 955]], [[2072, 2080], [1179, 1187]], [[1179, 1224], [2072, 2090]], [[2138, 2156], [781, 810]], [[2455, 2458], [2372, 2410]], [[2506, 2509], [1106, 1132], [2475, 2490]], [[567, 578], [1838, 1849], [2645, 2656]], [[1894, 1905], [1967, 1977], [1752, 1796]], [[353, 367], [696, 720]], [[853, 857], [1024, 1028]], [[1024, 1038], [853, 869]], [[1873, 1891], [1799, 1810]], [[841, 869], [1024, 1053]], [[984, 987], [932, 970]]]\n",
    "\n",
    "len(flatten(c))"
   ]
  },
  {
   "cell_type": "code",
   "execution_count": 152,
   "metadata": {},
   "outputs": [
    {
     "data": {
      "text/plain": [
       "defaultdict(int,\n",
       "            {'MiscStats-Entities': 169,\n",
       "             'Stats-Mentions': 132,\n",
       "             'MiscStats-SplitAnte': 4,\n",
       "             'MiscStats-Bridge': 1})"
      ]
     },
     "execution_count": 152,
     "metadata": {},
     "output_type": "execute_result"
    }
   ],
   "source": [
    "from collections import defaultdict\n",
    "\n",
    "def update_stats(stats, data):\n",
    "    markables = list(data[\"markables\"].keys())\n",
    "    stats[\"MiscStats-Entities\"] += len(reverse_markables(data[\"markables\"]))\n",
    "    stats[\"Stats-Mentions\"] += len(markables)\n",
    "\n",
    "    refs = data[\"references\"]\n",
    "    # also add each mentioned markable in Corefs:\n",
    "    mentioned_markables = []\n",
    "    for t_start, t_end in refs[\"Coref\"]:\n",
    "        mentioned_markables.append(t_start)\n",
    "        mentioned_markables.append(t_end)\n",
    "        \n",
    "    if \"Split_antecedent\" in refs:\n",
    "        split_ante = refs[\"Split_antecedent\"]\n",
    "        split_ents = []\n",
    "        for t_start, t_end in split_ante:\n",
    "            split_ents.append(t_start)\n",
    "        stats[\"MiscStats-SplitAnte\"] += len(set(split_ents))\n",
    "\n",
    "    if \"Bridging\" in refs:\n",
    "        bridges = refs[\"Bridging\"]\n",
    "        valid_bridges = []\n",
    "        for t_start, t_end in bridges:\n",
    "            valid_bridges.append(t_start)\n",
    "        stats[\"MiscStats-Bridge\"] += len(set(valid_bridges))\n",
    "        \n",
    "    return stats\n",
    "    \n",
    "\n",
    "def get_stats():\n",
    "    stats = defaultdict(int)\n",
    "    with jsonlines.open(os.path.join(sample_path)) as reader:\n",
    "        data = [obj for obj in reader][0]\n",
    "        # if len(data) > 0:\n",
    "        #     data = data[0]\n",
    "        stats = update_stats(stats, data)\n",
    "\n",
    "    return stats\n",
    "\n",
    "\n",
    "get_stats()"
   ]
  },
  {
   "cell_type": "code",
   "execution_count": 153,
   "metadata": {},
   "outputs": [
    {
     "data": {
      "text/plain": [
       "defaultdict(int,\n",
       "            {'MiscStats-Entities': 93396,\n",
       "             'Stats-Mentions': 77902,\n",
       "             'MiscStats-SplitAnte': 169,\n",
       "             'MiscStats-Bridge': 1041})"
      ]
     },
     "execution_count": 153,
     "metadata": {},
     "output_type": "execute_result"
    }
   ],
   "source": [
    "# load sample:\n",
    "# iterate and add markables, corefes, bridges, splits\n",
    "from collections import defaultdict\n",
    "\n",
    "def get_stats(folder):\n",
    "    stats = defaultdict(int)\n",
    "    for jsonl in os.listdir(folder):\n",
    "        if \"jsonl\" not in jsonl:\n",
    "            continue\n",
    "        with jsonlines.open(os.path.join(folder, jsonl)) as reader:\n",
    "            data = [obj for obj in reader][0]\n",
    "            stats = update_stats(stats, data)\n",
    "    return stats\n",
    "\n",
    "get_stats(\"annotations_jsonlines_bokmaal\")"
   ]
  },
  {
   "cell_type": "code",
   "execution_count": 154,
   "metadata": {},
   "outputs": [
    {
     "data": {
      "text/plain": [
       "defaultdict(int,\n",
       "            {'MiscStats-Entities': 76298,\n",
       "             'Stats-Mentions': 63152,\n",
       "             'MiscStats-Bridge': 868,\n",
       "             'MiscStats-SplitAnte': 88})"
      ]
     },
     "execution_count": 154,
     "metadata": {},
     "output_type": "execute_result"
    }
   ],
   "source": [
    "get_stats(\"annotations_jsonlines_nynorsk\")"
   ]
  },
  {
   "cell_type": "code",
   "execution_count": null,
   "metadata": {},
   "outputs": [],
   "source": []
  },
  {
   "attachments": {},
   "cell_type": "markdown",
   "metadata": {},
   "source": [
    "# sentence counter"
   ]
  },
  {
   "cell_type": "code",
   "execution_count": 2,
   "metadata": {},
   "outputs": [
    {
     "name": "stdout",
     "output_type": "stream",
     "text": [
      "bokmaal 16531 259026\n",
      "nynorsk 12762 213222\n"
     ]
    }
   ],
   "source": [
    "from conllu import parse\n",
    "import os\n",
    "\n",
    "for lang in [\"bokmaal\", \"nynorsk\"]:\n",
    "    path = \"annotations_conll_\" + lang\n",
    "    sents = 0\n",
    "    tokens = 0\n",
    "    for conll in os.listdir(path):\n",
    "        if \"conll\" not in conll:\n",
    "            continue\n",
    "        with open(os.path.join(path, conll)) as f:\n",
    "            data = f.read()\n",
    "            parsed = parse(data)\n",
    "            sents += len(parsed)\n",
    "            tokens += sum([len(s) for s in parsed])\n",
    "    print(lang, sents, tokens)"
   ]
  },
  {
   "cell_type": "code",
   "execution_count": 5,
   "metadata": {},
   "outputs": [
    {
     "name": "stdout",
     "output_type": "stream",
     "text": [
      "bokmaal 20044 310221\n",
      "nynorsk 17575 301353\n"
     ]
    }
   ],
   "source": [
    "from conllu import parse\n",
    "import os\n",
    "\n",
    "for lang in [\"bokmaal\", \"nynorsk\"]:\n",
    "    path = \"../../UD/UD_Norwegian-\" + lang.capitalize()\n",
    "    sents = 0\n",
    "    tokens = 0\n",
    "    for conll in os.listdir(path):\n",
    "        if \"conll\" not in conll:\n",
    "            continue\n",
    "        with open(os.path.join(path, conll)) as f:\n",
    "            data = f.read()\n",
    "            parsed = parse(data)\n",
    "            sents += len(parsed)\n",
    "            tokens += sum([len(s) for s in parsed])\n",
    "    print(lang, sents, tokens)"
   ]
  }
 ],
 "metadata": {
  "kernelspec": {
   "display_name": "Python 3",
   "language": "python",
   "name": "python3"
  },
  "language_info": {
   "codemirror_mode": {
    "name": "ipython",
    "version": 3
   },
   "file_extension": ".py",
   "mimetype": "text/x-python",
   "name": "python",
   "nbconvert_exporter": "python",
   "pygments_lexer": "ipython3",
   "version": "3.11.0"
  },
  "orig_nbformat": 4,
  "vscode": {
   "interpreter": {
    "hash": "29f1e52c0d8d5e5ede6aaca4be8238d35b46afd62a3b8286547e2768de775769"
   }
  }
 },
 "nbformat": 4,
 "nbformat_minor": 2
}
