{
 "cells": [
  {
   "cell_type": "code",
   "execution_count": 7,
   "metadata": {},
   "outputs": [],
   "source": [
    "import udapi"
   ]
  },
  {
   "attachments": {},
   "cell_type": "markdown",
   "metadata": {},
   "source": [
    "```\n",
    "1\tHennes\tname=O|Entity=(1(2)\n",
    "2\tfraseparerte\tname=O\n",
    "3\tektemann\tSpaceAfter=No|name=O\n",
    "4\t,\tname=O\n",
    "5\tsom\tname=O\n",
    "6\thar\tname=O\n",
    "7\thentet\tname=O\n",
    "8\tbarnet\tname=O|Entity=(3\n",
    "9\tderes\tname=O|SplitAnte=1<4,2<4|Entity=(4)3)\n",
    "10\tnoen\tname=O|Entity=(5\n",
    "11\tdager\tname=O|Entity=5)\n",
    "12\ttidligere\tSpaceAfter=No|name=O|Entity=1)\n",
    "13\t,\tname=O\n",
    "14\ter\tname=O\n",
    "15\tikke\tname=O\n",
    "16\tå\tname=O\n",
    "17\tfå\tname=O\n",
    "18\ttak\tname=O|Entity=(6\n",
    "19\ti\tSpaceAfter=No|name=O|Entity=6)\n",
    "20\t.\tname=O\n",
    "\n",
    "```"
   ]
  },
  {
   "cell_type": "code",
   "execution_count": 13,
   "metadata": {},
   "outputs": [
    {
     "data": {
      "text/plain": [
       "defaultdict(int,\n",
       "            {'entities[Stats]': 6,\n",
       "             'mentions[Stats]': 6,\n",
       "             'Entity[MiscStats]': 8,\n",
       "             'SpaceAfter[MiscStats]': 3,\n",
       "             'SplitAnte[MiscStats]': 1})"
      ]
     },
     "execution_count": 13,
     "metadata": {},
     "output_type": "execute_result"
    }
   ],
   "source": [
    "from collections import defaultdict\n",
    "\n",
    "def process_file(f):\n",
    "    doc = udapi.Document(f)\n",
    "    udapi.Document()\n",
    "    counts = defaultdict(int)\n",
    "    counts[\"entities[Stats]\"] = len(doc.coref_entities)\n",
    "    counts[\"mentions[Stats]\"] = len(doc.coref_mentions)\n",
    "    for node in doc.nodes:\n",
    "        for attr in node.misc:\n",
    "            if attr == \"name\":  # handle \"Outside\" entities\n",
    "                attrvalue = node.misc[attr]\n",
    "                if attrvalue == \"O\":\n",
    "                    continue\n",
    "            counts[attr + \"[MiscStats]\"] += 1\n",
    "    return counts\n",
    "\n",
    "f = \"sample.conllu\"\n",
    "f = \"sample2.conllu\"\n",
    "process_file(f)"
   ]
  },
  {
   "cell_type": "code",
   "execution_count": 154,
   "metadata": {},
   "outputs": [
    {
     "ename": "KeyboardInterrupt",
     "evalue": "",
     "output_type": "error",
     "traceback": [
      "\u001b[0;31m---------------------------------------------------------------------------\u001b[0m",
      "\u001b[0;31mKeyboardInterrupt\u001b[0m                         Traceback (most recent call last)",
      "Cell \u001b[0;32mIn[154], line 7\u001b[0m\n\u001b[1;32m      5\u001b[0m \u001b[39mfor\u001b[39;00m conll_f \u001b[39min\u001b[39;00m os\u001b[39m.\u001b[39mlistdir(path):\n\u001b[1;32m      6\u001b[0m     \u001b[39mif\u001b[39;00m conll_f\u001b[39m.\u001b[39mendswith(\u001b[39m\"\u001b[39m\u001b[39m.conllu\u001b[39m\u001b[39m\"\u001b[39m):\n\u001b[0;32m----> 7\u001b[0m         _stats \u001b[39m=\u001b[39m process_file(os\u001b[39m.\u001b[39;49mpath\u001b[39m.\u001b[39;49mjoin(path, conll_f))\n\u001b[1;32m      8\u001b[0m         \u001b[39mfor\u001b[39;00m key, value \u001b[39min\u001b[39;00m _stats\u001b[39m.\u001b[39mitems():\n\u001b[1;32m      9\u001b[0m             stats[key] \u001b[39m+\u001b[39m\u001b[39m=\u001b[39m value\n",
      "Cell \u001b[0;32mIn[153], line 4\u001b[0m, in \u001b[0;36mprocess_file\u001b[0;34m(f)\u001b[0m\n\u001b[1;32m      3\u001b[0m \u001b[39mdef\u001b[39;00m \u001b[39mprocess_file\u001b[39m(f):\n\u001b[0;32m----> 4\u001b[0m     doc \u001b[39m=\u001b[39m udapi\u001b[39m.\u001b[39;49mDocument(f)\n\u001b[1;32m      5\u001b[0m     udapi\u001b[39m.\u001b[39mDocument()\n\u001b[1;32m      6\u001b[0m     counts \u001b[39m=\u001b[39m defaultdict(\u001b[39mint\u001b[39m)\n",
      "File \u001b[0;32m/opt/homebrew/lib/python3.11/site-packages/udapi/core/document.py:35\u001b[0m, in \u001b[0;36mDocument.__init__\u001b[0;34m(self, filename, **kwargs)\u001b[0m\n\u001b[1;32m     33\u001b[0m \u001b[39mif\u001b[39;00m filename \u001b[39mis\u001b[39;00m \u001b[39mnot\u001b[39;00m \u001b[39mNone\u001b[39;00m:\n\u001b[1;32m     34\u001b[0m     \u001b[39mif\u001b[39;00m filename\u001b[39m.\u001b[39mendswith(\u001b[39m\"\u001b[39m\u001b[39m.conllu\u001b[39m\u001b[39m\"\u001b[39m):\n\u001b[0;32m---> 35\u001b[0m         \u001b[39mself\u001b[39;49m\u001b[39m.\u001b[39;49mload_conllu(filename, \u001b[39m*\u001b[39;49m\u001b[39m*\u001b[39;49mkwargs)\n\u001b[1;32m     36\u001b[0m     \u001b[39melif\u001b[39;00m filename\u001b[39m.\u001b[39mendswith(\u001b[39m\"\u001b[39m\u001b[39m.txt\u001b[39m\u001b[39m\"\u001b[39m):\n\u001b[1;32m     37\u001b[0m         reader \u001b[39m=\u001b[39m SentencesReader(files\u001b[39m=\u001b[39mfilename, \u001b[39m*\u001b[39m\u001b[39m*\u001b[39mkwargs)\n",
      "File \u001b[0;32m/opt/homebrew/lib/python3.11/site-packages/udapi/core/document.py:68\u001b[0m, in \u001b[0;36mDocument.load_conllu\u001b[0;34m(self, filename, **kwargs)\u001b[0m\n\u001b[1;32m     66\u001b[0m \u001b[39mdef\u001b[39;00m \u001b[39mload_conllu\u001b[39m(\u001b[39mself\u001b[39m, filename\u001b[39m=\u001b[39m\u001b[39mNone\u001b[39;00m, \u001b[39m*\u001b[39m\u001b[39m*\u001b[39mkwargs):\n\u001b[1;32m     67\u001b[0m     \u001b[39m\"\"\"Load a document from a conllu-formatted file.\"\"\"\u001b[39;00m\n\u001b[0;32m---> 68\u001b[0m     ConlluReader(files\u001b[39m=\u001b[39;49mfilename, \u001b[39m*\u001b[39;49m\u001b[39m*\u001b[39;49mkwargs)\u001b[39m.\u001b[39;49mprocess_document(\u001b[39mself\u001b[39;49m)\n",
      "File \u001b[0;32m/opt/homebrew/lib/python3.11/site-packages/udapi/core/basereader.py:268\u001b[0m, in \u001b[0;36mBaseReader.process_document\u001b[0;34m(self, document)\u001b[0m\n\u001b[1;32m    266\u001b[0m \u001b[39mif\u001b[39;00m gc_was_enabled:\n\u001b[1;32m    267\u001b[0m     gc\u001b[39m.\u001b[39menable()\n\u001b[0;32m--> 268\u001b[0m     gc\u001b[39m.\u001b[39mcollect()\n",
      "\u001b[0;31mKeyboardInterrupt\u001b[0m: "
     ]
    }
   ],
   "source": [
    "import os\n",
    "for lang in [\"bokmaal\", \"nynorsk\"]:\n",
    "    path = \"annotations_conll_\" + lang\n",
    "    stats = defaultdict(int)\n",
    "    for conll_f in os.listdir(path):\n",
    "        if conll_f.endswith(\".conllu\"):\n",
    "            _stats = process_file(os.path.join(path, conll_f))\n",
    "            for key, value in _stats.items():\n",
    "                stats[key] += value\n",
    "    print(lang)\n",
    "    print(stats)"
   ]
  },
  {
   "cell_type": "code",
   "execution_count": null,
   "metadata": {},
   "outputs": [],
   "source": [
    "for lang in [\"bokmaal\", \"nynorsk\"]:\n",
    "    path = \"annotations_conll_\" + lang\n",
    "    path = \n",
    "    stats = defaultdict(int)\n",
    "    for conll_f in os.listdir(path):\n",
    "        if conll_f.endswith(\".conllu\"):\n",
    "            _stats = process_file(os.path.join(path, conll_f))\n",
    "            for key, value in _stats.items():\n",
    "                stats[key] += value\n",
    "    print(lang)\n",
    "    print(stats)"
   ]
  }
 ],
 "metadata": {
  "kernelspec": {
   "display_name": "Python 3",
   "language": "python",
   "name": "python3"
  },
  "language_info": {
   "codemirror_mode": {
    "name": "ipython",
    "version": 3
   },
   "file_extension": ".py",
   "mimetype": "text/x-python",
   "name": "python",
   "nbconvert_exporter": "python",
   "pygments_lexer": "ipython3",
   "version": "3.10.10"
  },
  "orig_nbformat": 4,
  "vscode": {
   "interpreter": {
    "hash": "26de051ba29f2982a8de78e945f0abaf191376122a1563185a90213a26c5da77"
   }
  }
 },
 "nbformat": 4,
 "nbformat_minor": 2
}
