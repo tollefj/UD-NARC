{
 "cells": [
  {
   "cell_type": "code",
   "execution_count": 1,
   "metadata": {},
   "outputs": [],
   "source": [
    "sample_path = \"../output/narc/annotations_jsonlines_bokmaal/aftenposten_02.jsonl\"\n"
   ]
  },
  {
   "cell_type": "code",
   "execution_count": 2,
   "metadata": {},
   "outputs": [],
   "source": [
    "import os\n",
    "import jsonlines"
   ]
  },
  {
   "cell_type": "code",
   "execution_count": 3,
   "metadata": {},
   "outputs": [
    {
     "name": "stdout",
     "output_type": "stream",
     "text": [
      "Found 132 markables in ../output/narc/annotations_jsonlines_bokmaal/aftenposten_02.jsonl\n",
      "Found 26 coreference clusters in ../output/narc/annotations_jsonlines_bokmaal/aftenposten_02.jsonl\n"
     ]
    }
   ],
   "source": [
    "# load markables:\n",
    "with jsonlines.open(sample_path) as reader:\n",
    "    for obj in reader:\n",
    "        m = obj[\"markables\"]\n",
    "        c = obj[\"clusters\"]\n",
    "        break\n",
    "\n",
    "print(f\"Found {len(m)} markables in {sample_path}\")\n",
    "print(f\"Found {len(c)} coreference clusters in {sample_path}\")"
   ]
  },
  {
   "cell_type": "code",
   "execution_count": 4,
   "metadata": {},
   "outputs": [
    {
     "data": {
      "text/plain": [
       "207"
      ]
     },
     "execution_count": 4,
     "metadata": {},
     "output_type": "execute_result"
    }
   ],
   "source": [
    "from collections import defaultdict\n",
    "def reverse_markables(markables):\n",
    "    # sort markables by the start index\n",
    "    reverse = defaultdict(list)\n",
    "    for key, value in markables.items():\n",
    "        start, end = value[0]\n",
    "        reverse[start].append(key)\n",
    "        if start != end:\n",
    "            reverse[end].append(key)\n",
    "    return reverse\n",
    "\n",
    "    \n",
    "_m = reverse_markables(m)\n",
    "\n",
    "def flatten(l):\n",
    "    return [item for sublist in l for item in sublist]\n",
    "\n",
    "# flattened markables - i.e., no grouped coreferences\n",
    "flat_vals = flatten(_m.values())\n",
    "len(flat_vals)"
   ]
  },
  {
   "cell_type": "code",
   "execution_count": 5,
   "metadata": {},
   "outputs": [
    {
     "data": {
      "text/plain": [
       "57"
      ]
     },
     "execution_count": 5,
     "metadata": {},
     "output_type": "execute_result"
    }
   ],
   "source": [
    "# non-singleton entities:\n",
    "singletons = [k for k, v in m.items() if v[0][0] == v[0][1]]\n",
    "len(singletons)"
   ]
  },
  {
   "cell_type": "code",
   "execution_count": 6,
   "metadata": {},
   "outputs": [],
   "source": [
    "from collections import defaultdict\n",
    "\n",
    "def update_stats(stats, data):\n",
    "    markables = list(data[\"markables\"].keys())\n",
    "    stats[\"MiscStats-Entities\"] += len(reverse_markables(data[\"markables\"]))\n",
    "    stats[\"Stats-Mentions\"] += len(markables)\n",
    "\n",
    "    refs = data[\"references\"]\n",
    "    # also add each mentioned markable in Corefs:\n",
    "    mentioned_markables = []\n",
    "    for t_start, t_end in refs[\"Coref\"]:\n",
    "        mentioned_markables.append(t_start)\n",
    "        mentioned_markables.append(t_end)\n",
    "        \n",
    "    if \"Split_antecedent\" in refs:\n",
    "        split_ante = refs[\"Split_antecedent\"]\n",
    "        split_ents = []\n",
    "        for t_start, t_end in split_ante:\n",
    "            split_ents.append(t_start)\n",
    "        stats[\"MiscStats-SplitAnte\"] += len(set(split_ents))\n",
    "\n",
    "    if \"Bridging\" in refs:\n",
    "        bridges = refs[\"Bridging\"]\n",
    "        valid_bridges = []\n",
    "        for t_start, t_end in bridges:\n",
    "            valid_bridges.append(t_start)\n",
    "        stats[\"MiscStats-Bridge\"] += len(set(valid_bridges))\n",
    "        \n",
    "    return stats\n",
    "    \n",
    "\n",
    "def get_stats():\n",
    "    stats = defaultdict(int)\n",
    "    with jsonlines.open(os.path.join(sample_path)) as reader:\n",
    "        data = [obj for obj in reader][0]\n",
    "        # if len(data) > 0:\n",
    "        #     data = data[0]\n",
    "        stats = update_stats(stats, data)\n",
    "\n",
    "    return stats\n",
    "\n"
   ]
  },
  {
   "cell_type": "code",
   "execution_count": 7,
   "metadata": {},
   "outputs": [
    {
     "data": {
      "text/plain": [
       "defaultdict(int,\n",
       "            {'MiscStats-Entities': 92950,\n",
       "             'Stats-Mentions': 77575,\n",
       "             'MiscStats-Bridge': 1060,\n",
       "             'MiscStats-SplitAnte': 157})"
      ]
     },
     "execution_count": 7,
     "metadata": {},
     "output_type": "execute_result"
    }
   ],
   "source": [
    "# load sample:\n",
    "# iterate and add markables, corefes, bridges, splits\n",
    "from collections import defaultdict\n",
    "\n",
    "def get_stats(folder):\n",
    "    stats = defaultdict(int)\n",
    "    for jsonl in os.listdir(folder):\n",
    "        if \"jsonl\" not in jsonl:\n",
    "            continue\n",
    "        with jsonlines.open(os.path.join(folder, jsonl)) as reader:\n",
    "            data = [obj for obj in reader][0]\n",
    "            stats = update_stats(stats, data)\n",
    "    return stats\n",
    "\n",
    "get_stats(\"../output/narc/annotations_jsonlines_bokmaal/\")"
   ]
  },
  {
   "cell_type": "code",
   "execution_count": 8,
   "metadata": {},
   "outputs": [
    {
     "data": {
      "text/plain": [
       "defaultdict(int,\n",
       "            {'MiscStats-Entities': 76298,\n",
       "             'Stats-Mentions': 63152,\n",
       "             'MiscStats-Bridge': 868,\n",
       "             'MiscStats-SplitAnte': 88})"
      ]
     },
     "execution_count": 8,
     "metadata": {},
     "output_type": "execute_result"
    }
   ],
   "source": [
    "get_stats(\"../output/narc/annotations_jsonlines_nynorsk/\")"
   ]
  },
  {
   "attachments": {},
   "cell_type": "markdown",
   "metadata": {},
   "source": [
    "# sentence counter"
   ]
  },
  {
   "cell_type": "code",
   "execution_count": 9,
   "metadata": {},
   "outputs": [
    {
     "name": "stdout",
     "output_type": "stream",
     "text": [
      "bokmaal 16461 257646\n",
      "nynorsk 12762 213222\n"
     ]
    }
   ],
   "source": [
    "from conllu import parse\n",
    "import os\n",
    "\n",
    "for lang in [\"bokmaal\", \"nynorsk\"]:\n",
    "    path = \"../output/narc/annotations_conll_\" + lang\n",
    "    sents = 0\n",
    "    tokens = 0\n",
    "    for conll in os.listdir(path):\n",
    "        if \"conll\" not in conll:\n",
    "            continue\n",
    "        with open(os.path.join(path, conll), encoding=\"utf-8\") as f:\n",
    "            data = f.read()\n",
    "            parsed = parse(data)\n",
    "            sents += len(parsed)\n",
    "            tokens += sum([len(s) for s in parsed])\n",
    "    print(lang, sents, tokens)"
   ]
  },
  {
   "cell_type": "code",
   "execution_count": 10,
   "metadata": {},
   "outputs": [
    {
     "name": "stdout",
     "output_type": "stream",
     "text": [
      "bokmaal 20044 310221\n",
      "nynorsk 17575 301353\n"
     ]
    }
   ],
   "source": [
    "from conllu import parse\n",
    "import os\n",
    "\n",
    "for lang in [\"bokmaal\", \"nynorsk\"]:\n",
    "    path = \"../data/UD/UD_Norwegian-\" + lang.capitalize()\n",
    "    sents = 0\n",
    "    tokens = 0\n",
    "    for conll in os.listdir(path):\n",
    "        if \"conll\" not in conll:\n",
    "            continue\n",
    "        with open(os.path.join(path, conll), encoding=\"utf-8\") as f:\n",
    "            data = f.read()\n",
    "            parsed = parse(data)\n",
    "            sents += len(parsed)\n",
    "            tokens += sum([len(s) for s in parsed])\n",
    "    print(lang, sents, tokens)"
   ]
  }
 ],
 "metadata": {
  "kernelspec": {
   "display_name": "Python 3",
   "language": "python",
   "name": "python3"
  },
  "language_info": {
   "codemirror_mode": {
    "name": "ipython",
    "version": 3
   },
   "file_extension": ".py",
   "mimetype": "text/x-python",
   "name": "python",
   "nbconvert_exporter": "python",
   "pygments_lexer": "ipython3",
   "version": "3.12.1"
  },
  "orig_nbformat": 4,
  "vscode": {
   "interpreter": {
    "hash": "29f1e52c0d8d5e5ede6aaca4be8238d35b46afd62a3b8286547e2768de775769"
   }
  }
 },
 "nbformat": 4,
 "nbformat_minor": 2
}
