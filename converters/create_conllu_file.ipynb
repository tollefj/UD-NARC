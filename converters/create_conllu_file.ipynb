{
 "cells": [
  {
   "attachments": {},
   "cell_type": "markdown",
   "metadata": {},
   "source": [
    "```\n",
    "from: [[1,2, ENTITYNAME, [3,4, ENTITYNAME]], [123,135, ANOTHERENT, ...], ...]\n",
    "+ a source conllu file\n",
    "\n",
    "-> conllu with new mentions\n",
    "```"
   ]
  },
  {
   "cell_type": "code",
   "execution_count": 1,
   "metadata": {},
   "outputs": [
    {
     "name": "stdout",
     "output_type": "stream",
     "text": [
      "0 <016056, <ROOT>> [Node<016056#1, Pinefull>, Node<016056#2, død>, Node<016056#3, for>, Node<016056#4, den>, Node<016056#5, irske>, Node<016056#6, pub>, Node<016056#7, ?>]\n",
      "1 <016057, <ROOT>> [Node<016057#1, Irene>, Node<016057#2, diskuterer>, Node<016057#3, over>, Node<016057#4, mørkebrunt>, Node<016057#5, øl>, Node<016057#6, .>]\n",
      "2 <016058, <ROOT>> [Node<016058#1, Micheál>, Node<016058#2, Martin>, Node<016058#3, er>, Node<016058#4, på>, Node<016058#5, alles>, Node<016058#6, lepper>, Node<016058#7, .>]\n"
     ]
    }
   ],
   "source": [
    "from typing import List, Tuple\n",
    "import udapi\n",
    "import udapi.block.corefud.movehead\n",
    "import udapi.block.corefud.removemisc\n",
    "\n",
    "MentionWithEid = List[List[Tuple[int, int, int]]]\n",
    "MentionOnly = List[List[Tuple[int, int]]]\n",
    "\n",
    "def wipe_conllu(path, output_path):\n",
    "    doc = udapi.block.read.conllu.Conllu(files=[path]).read_documents()[0]\n",
    "    udapi.block.corefud.removemisc.RemoveMisc(\n",
    "        attrnames=\"Entity,SplitAnte,Bridge\").apply_on_document(doc)\n",
    "    udapi.block.write.conllu.Conllu(files=[output_path]).apply_on_document(doc)\n",
    "    \n",
    "def create_conllu(path, mentions):\n",
    "    doc = udapi.block.read.conllu.Conllu(files=[path]).read_documents()[0]\n",
    "    udapi.block.corefud.removemisc.RemoveMisc(\n",
    "        attrnames=\"Entity,SplitAnte,Bridge\").apply_on_document(doc)\n",
    "    entities = {}\n",
    "    for i, tree in enumerate(doc.trees):\n",
    "        print(i, tree, tree.descendants_and_empty)\n",
    "        nodes = tree.descendants_and_empty\n",
    "        for start, end, eid in mentions[i]:\n",
    "            print(start, end, eid)\n",
    "            if not eid in entities:\n",
    "                entities[eid] = udapi.core.coref.CorefEntity(f\"c{eid}\")\n",
    "            udapi.core.coref.CorefMention(nodes[start : end + 1], entity=entities[eid])\n",
    "    doc._eid_to_entity = {entity._eid: entity for entity in sorted(entities.values())}\n",
    "    udapi.block.corefud.movehead.MoveHead(bugs=\"ignore\").apply_on_document(doc)\n",
    "    udapi.block.write.conllu.Conllu(files=[path]).apply_on_document(doc)\n",
    "\n",
    "    for mention in doc.coref_mentions:\n",
    "        mention.words = [mention.head]\n",
    "\n",
    "# mentions = [[(0,5), (6,7)], [(0,1), (2,3), (4,5)], [(13, 18), (24, 30)]]\n",
    "mentions = [[], [], []]\n",
    "path = \"tmp.conllu\"\n",
    "create_conllu(path, mentions)\n",
    "\n"
   ]
  },
  {
   "cell_type": "code",
   "execution_count": 4,
   "metadata": {},
   "outputs": [],
   "source": [
    "paths = [\n",
    "    \"../data/CRAC/CorefUD_Czech-PCEDT/cs_pcedt-corefud-dev.conllu\",\n",
    "    \"../data/CRAC/CorefUD_Czech-PDT/cs_pdt-corefud-dev.conllu\",\n",
    "    \"../data/CRAC/CorefUD_Lithuanian-LCC/lt_lcc-corefud-dev.conllu\",\n",
    "    \"../data/CRAC/CorefUD_Polish-PCC/pl_pcc-corefud-dev.conllu\",\n",
    "    \"../data/CRAC/CorefUD_Russian-RuCor/ru_rucor-corefud-dev.conllu\"\n",
    "]\n",
    "wiped_folder = \"models/corpiper/submissions\"\n",
    "wiped_paths = [p.split(\"/\")[-1] for p in paths]\n",
    "wiped_paths = [f\"{wiped_folder}/{p}\" for p in wiped_paths]\n",
    "for p, wp in zip(paths, wiped_paths):\n",
    "    wipe_conllu(p, wp)"
   ]
  },
  {
   "cell_type": "code",
   "execution_count": 6,
   "metadata": {},
   "outputs": [
    {
     "name": "stdout",
     "output_type": "stream",
     "text": [
      "  adding: models/corpiper/submissions/ (stored 0%)\n",
      "  adding: models/corpiper/submissions/en_gum-corefud-dev.conllu (deflated 80%)\n",
      "  adding: models/corpiper/submissions/cs_pcedt-corefud-dev.conllu (deflated 83%)\n",
      "  adding: models/corpiper/submissions/de_potsdamcc-corefud-dev.conllu (deflated 82%)\n",
      "  adding: models/corpiper/submissions/no_bokmaalnarc-corefud-dev.conllu (deflated 81%)\n",
      "  adding: models/corpiper/submissions/de_parcorfull-corefud-dev.conllu (deflated 82%)\n",
      "  adding: models/corpiper/submissions/lt_lcc-corefud-dev.conllu (deflated 85%)\n",
      "  adding: models/corpiper/submissions/es_ancora-corefud-dev.conllu (deflated 82%)\n",
      "  adding: models/corpiper/submissions/cs_pdt-corefud-dev.conllu (deflated 83%)\n",
      "  adding: models/corpiper/submissions/hu_korkor-corefud-dev.conllu (deflated 82%)\n",
      "  adding: models/corpiper/submissions/pl_pcc-corefud-dev.conllu (deflated 84%)\n",
      "  adding: models/corpiper/submissions/tr_itcc-corefud-dev.conllu (deflated 85%)\n",
      "  adding: models/corpiper/submissions/en_parcorfull-corefud-dev.conllu (deflated 80%)\n",
      "  adding: models/corpiper/submissions/hu_szegedkoref-corefud-dev.conllu (deflated 83%)\n",
      "  adding: models/corpiper/submissions/no_nynorsknarc-corefud-dev.conllu (deflated 82%)\n",
      "  adding: models/corpiper/submissions/ru_rucor-corefud-dev.conllu (deflated 84%)\n",
      "  adding: models/corpiper/submissions/fr_democrat-corefud-dev.conllu (deflated 82%)\n",
      "  adding: models/corpiper/submissions/ca_ancora-corefud-dev.conllu (deflated 82%)\n"
     ]
    }
   ],
   "source": [
    "# zip the submissions folder \n",
    "!zip -r models/corpiper/submissions_test.zip models/corpiper/submissions"
   ]
  }
 ],
 "metadata": {
  "kernelspec": {
   "display_name": "CRAC23",
   "language": "python",
   "name": "python3"
  },
  "language_info": {
   "codemirror_mode": {
    "name": "ipython",
    "version": 3
   },
   "file_extension": ".py",
   "mimetype": "text/x-python",
   "name": "python",
   "nbconvert_exporter": "python",
   "pygments_lexer": "ipython3",
   "version": "3.9.16"
  },
  "orig_nbformat": 4
 },
 "nbformat": 4,
 "nbformat_minor": 2
}
