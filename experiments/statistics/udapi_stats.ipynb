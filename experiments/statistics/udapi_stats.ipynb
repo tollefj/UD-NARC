{
 "cells": [
  {
   "attachments": {},
   "cell_type": "markdown",
   "metadata": {},
   "source": [
    "# Udapi stats\n",
    "Make sure to modify the \"make_conllu_line\" in the parsing of NARC files as follows:\n",
    "\n",
    "```\n",
    "    conllu_dict = {\n",
    "        \"ID\": str(token_id + 1),\n",
    "        \"FORM\": token,\n",
    "        \"LEMMA\": token,\n",
    "        \"UPOS\": \"VERB\",\n",
    "        \"XPOS\": \"_\",\n",
    "        \"FEATS\": \"_\",\n",
    "        \"HEAD\": \"0\",\n",
    "        \"DEPREL\": \"root\" if token_id == 2 else \"nsubj\",\n",
    "        \"DEPS\": \"_\",\n",
    "        \"MISC\": misc\n",
    "    }\n",
    "\n",
    "```\n",
    "\n",
    "this is to bypass parsing with udapi"
   ]
  },
  {
   "cell_type": "code",
   "execution_count": 3,
   "metadata": {},
   "outputs": [],
   "source": [
    "import udapi"
   ]
  },
  {
   "cell_type": "code",
   "execution_count": 34,
   "metadata": {},
   "outputs": [
    {
     "data": {
      "text/plain": [
       "defaultdict(int,\n",
       "            {'entities[Stats]': 41,\n",
       "             'mentions[Stats]': 44,\n",
       "             'Entity[MiscStats]': 58,\n",
       "             'Bridge[MiscStats]': 2})"
      ]
     },
     "execution_count": 34,
     "metadata": {},
     "output_type": "execute_result"
    }
   ],
   "source": [
    "from collections import defaultdict\n",
    "\n",
    "def process_file(f):\n",
    "    \n",
    "    doc = udapi.Document(f)\n",
    "    udapi.Document()\n",
    "    counts = defaultdict(int)\n",
    "    counts[\"entities[Stats]\"] = len(doc.coref_entities)\n",
    "    counts[\"mentions[Stats]\"] = len(doc.coref_mentions)\n",
    "    for node in doc.nodes:\n",
    "        for attr in node.misc:\n",
    "            if attr == \"name\":  # handle \"Outside\" entities\n",
    "                attrvalue = node.misc[attr]\n",
    "                if attrvalue == \"O\":\n",
    "                    continue\n",
    "            counts[attr + \"[MiscStats]\"] += 1\n",
    "    return counts\n",
    "\n",
    "f = \"/Users/tollef/Downloads/git/PHD/COREF/UD-NARC/output/narc/annotations_conll_bokmaal/aftenposten_01.conllu\"\n",
    "process_file(f)"
   ]
  },
  {
   "attachments": {},
   "cell_type": "markdown",
   "metadata": {},
   "source": [
    "# NARC Conll results"
   ]
  },
  {
   "cell_type": "code",
   "execution_count": 36,
   "metadata": {},
   "outputs": [
    {
     "name": "stdout",
     "output_type": "stream",
     "text": [
      "bokmaal\n",
      "defaultdict(<class 'int'>, {'entities[Stats]': 55225, 'mentions[Stats]': 77565, 'Entity[MiscStats]': 92633, 'Bridge[MiscStats]': 1060, 'SplitAnte[MiscStats]': 140})\n",
      "nynorsk\n",
      "defaultdict(<class 'int'>, {'entities[Stats]': 45918, 'mentions[Stats]': 63137, 'Entity[MiscStats]': 75981, 'Bridge[MiscStats]': 868, 'SplitAnte[MiscStats]': 81})\n"
     ]
    }
   ],
   "source": [
    "for lang in [\"bokmaal\", \"nynorsk\"]:\n",
    "    path = \"annotations_conll_\" + lang\n",
    "    path = f\"/Users/tollef/Downloads/git/PHD/COREF/UD-NARC/output/narc/annotations_conll_{lang}\"\n",
    "    stats = defaultdict(int)\n",
    "    for conll_f in os.listdir(path):\n",
    "        if conll_f.endswith(\".conllu\"):\n",
    "            _stats = process_file(os.path.join(path, conll_f))\n",
    "            for key, value in _stats.items():\n",
    "                stats[key] += value\n",
    "    print(lang)\n",
    "    print(stats)"
   ]
  },
  {
   "attachments": {},
   "cell_type": "markdown",
   "metadata": {},
   "source": [
    "# Aligned NARC results:"
   ]
  },
  {
   "cell_type": "code",
   "execution_count": 35,
   "metadata": {},
   "outputs": [
    {
     "name": "stdout",
     "output_type": "stream",
     "text": [
      "bokmaal\n",
      "defaultdict(<class 'int'>, {'entities[Stats]': 52815, 'mentions[Stats]': 73983, 'Entity[MiscStats]': 88291, 'SpaceAfter[MiscStats]': 27055, 'name[MiscStats]': 16168, 'Bridge[MiscStats]': 1025, 'SplitAnte[MiscStats]': 134})\n",
      "nynorsk\n",
      "defaultdict(<class 'int'>, {'entities[Stats]': 44847, 'mentions[Stats]': 61615, 'Entity[MiscStats]': 74145, 'SpaceAfter[MiscStats]': 21336, 'name[MiscStats]': 15520, 'Bridge[MiscStats]': 841, 'SplitAnte[MiscStats]': 80})\n"
     ]
    }
   ],
   "source": [
    "import os\n",
    "for lang in [\"bokmaal\", \"nynorsk\"]:\n",
    "    # path = f\"../../output/narc/\"\n",
    "    path = f\"/Users/tollef/Downloads/git/PHD/COREF/UD-NARC/output/aligned/no-narc_{lang}\"\n",
    "    path = f\"/Users/tollef/Downloads/git/PHD/COREF/UD-NARC/output/aligned/no-narc_{lang}\"\n",
    "    # path = f\"/Users/tollef/Downloads/git/PHD/COREF/CRAC-23/modeling/data/CorefUD_Norwegian-BokmaalNARC\"\n",
    "    # _id = \"nob\" if lang == \"bokmaal\" else \"nno\"\n",
    "    # path = f\"/Users/tollef/Downloads/git/PHD/COREF/UD-NARC/data/norne/ud/{_id}\"\n",
    "    stats = defaultdict(int)\n",
    "    for conll_f in os.listdir(path):\n",
    "        if conll_f.endswith(\".conllu\"):\n",
    "            _stats = process_file(os.path.join(path, conll_f))\n",
    "            for key, value in _stats.items():\n",
    "                stats[key] += value\n",
    "    print(lang)\n",
    "    print(stats)"
   ]
  }
 ],
 "metadata": {
  "kernelspec": {
   "display_name": "Python 3",
   "language": "python",
   "name": "python3"
  },
  "language_info": {
   "codemirror_mode": {
    "name": "ipython",
    "version": 3
   },
   "file_extension": ".py",
   "mimetype": "text/x-python",
   "name": "python",
   "nbconvert_exporter": "python",
   "pygments_lexer": "ipython3",
   "version": "3.9.13"
  },
  "orig_nbformat": 4,
  "vscode": {
   "interpreter": {
    "hash": "29f1e52c0d8d5e5ede6aaca4be8238d35b46afd62a3b8286547e2768de775769"
   }
  }
 },
 "nbformat": 4,
 "nbformat_minor": 2
}
