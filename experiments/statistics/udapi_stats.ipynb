{
 "cells": [
  {
   "cell_type": "code",
   "execution_count": 155,
   "metadata": {},
   "outputs": [],
   "source": [
    "import udapi"
   ]
  },
  {
   "cell_type": "code",
   "execution_count": 157,
   "metadata": {},
   "outputs": [
    {
     "ename": "ValueError",
     "evalue": "No global.Entity header found, but Entity= annotations are presents",
     "output_type": "error",
     "traceback": [
      "\u001b[0;31m---------------------------------------------------------------------------\u001b[0m",
      "\u001b[0;31mValueError\u001b[0m                                Traceback (most recent call last)",
      "Cell \u001b[0;32mIn[157], line 20\u001b[0m\n\u001b[1;32m     18\u001b[0m f \u001b[39m=\u001b[39m \u001b[39m\"\u001b[39m\u001b[39m/Users/tollef/Downloads/git/PHD/COREF/UD-NARC/NorNE/ud/nno/no_nynorsk-ud-dev.conllu\u001b[39m\u001b[39m\"\u001b[39m\n\u001b[1;32m     19\u001b[0m f \u001b[39m=\u001b[39m \u001b[39m\"\u001b[39m\u001b[39msample.conllu\u001b[39m\u001b[39m\"\u001b[39m\n\u001b[0;32m---> 20\u001b[0m process_file(f)\n",
      "Cell \u001b[0;32mIn[157], line 7\u001b[0m, in \u001b[0;36mprocess_file\u001b[0;34m(f)\u001b[0m\n\u001b[1;32m      5\u001b[0m udapi\u001b[39m.\u001b[39mDocument()\n\u001b[1;32m      6\u001b[0m counts \u001b[39m=\u001b[39m defaultdict(\u001b[39mint\u001b[39m)\n\u001b[0;32m----> 7\u001b[0m counts[\u001b[39m\"\u001b[39m\u001b[39mentities[Stats]\u001b[39m\u001b[39m\"\u001b[39m] \u001b[39m=\u001b[39m \u001b[39mlen\u001b[39m(doc\u001b[39m.\u001b[39;49mcoref_entities)\n\u001b[1;32m      8\u001b[0m counts[\u001b[39m\"\u001b[39m\u001b[39mmentions[Stats]\u001b[39m\u001b[39m\"\u001b[39m] \u001b[39m=\u001b[39m \u001b[39mlen\u001b[39m(doc\u001b[39m.\u001b[39mcoref_mentions)\n\u001b[1;32m      9\u001b[0m \u001b[39mfor\u001b[39;00m node \u001b[39min\u001b[39;00m doc\u001b[39m.\u001b[39mnodes:\n",
      "File \u001b[0;32m/opt/homebrew/lib/python3.11/site-packages/udapi/core/document.py:145\u001b[0m, in \u001b[0;36mDocument.coref_entities\u001b[0;34m(self)\u001b[0m\n\u001b[1;32m    142\u001b[0m \u001b[39m@property\u001b[39m\n\u001b[1;32m    143\u001b[0m \u001b[39mdef\u001b[39;00m \u001b[39mcoref_entities\u001b[39m(\u001b[39mself\u001b[39m):\n\u001b[1;32m    144\u001b[0m     \u001b[39m\"\"\"A list of all CorefEntity objects in the document.\"\"\"\u001b[39;00m\n\u001b[0;32m--> 145\u001b[0m     \u001b[39mself\u001b[39;49m\u001b[39m.\u001b[39;49m_load_coref()\n\u001b[1;32m    146\u001b[0m     \u001b[39mreturn\u001b[39;00m \u001b[39mlist\u001b[39m(\u001b[39mself\u001b[39m\u001b[39m.\u001b[39m_eid_to_entity\u001b[39m.\u001b[39mvalues())\n",
      "File \u001b[0;32m/opt/homebrew/lib/python3.11/site-packages/udapi/core/document.py:123\u001b[0m, in \u001b[0;36mDocument._load_coref\u001b[0;34m(self)\u001b[0m\n\u001b[1;32m    116\u001b[0m \u001b[39m\"\"\"De-serialize coreference-related objects (CorefMention, CorefEntity).\u001b[39;00m\n\u001b[1;32m    117\u001b[0m \n\u001b[1;32m    118\u001b[0m \u001b[39mThis internal method will be called automatically whenever any coref-related method is called.\u001b[39;00m\n\u001b[1;32m    119\u001b[0m \u001b[39mIt iterates through all nodes in the document and creates the objects based on the info in MISC\u001b[39;00m\n\u001b[1;32m    120\u001b[0m \u001b[39m(stored in attributes Entity, SplitAnte, Bridge).\u001b[39;00m\n\u001b[1;32m    121\u001b[0m \u001b[39m\"\"\"\u001b[39;00m\n\u001b[1;32m    122\u001b[0m \u001b[39mif\u001b[39;00m \u001b[39mself\u001b[39m\u001b[39m.\u001b[39m_eid_to_entity \u001b[39mis\u001b[39;00m \u001b[39mNone\u001b[39;00m:\n\u001b[0;32m--> 123\u001b[0m     udapi\u001b[39m.\u001b[39;49mcore\u001b[39m.\u001b[39;49mcoref\u001b[39m.\u001b[39;49mload_coref_from_misc(\u001b[39mself\u001b[39;49m)\n",
      "File \u001b[0;32m/opt/homebrew/lib/python3.11/site-packages/udapi/core/coref.py:524\u001b[0m, in \u001b[0;36mload_coref_from_misc\u001b[0;34m(doc, strict)\u001b[0m\n\u001b[1;32m    521\u001b[0m     \u001b[39mcontinue\u001b[39;00m\n\u001b[1;32m    523\u001b[0m \u001b[39mif\u001b[39;00m \u001b[39mnot\u001b[39;00m was_global_entity:\n\u001b[0;32m--> 524\u001b[0m     \u001b[39mraise\u001b[39;00m \u001b[39mValueError\u001b[39;00m(\u001b[39mf\u001b[39m\u001b[39m\"\u001b[39m\u001b[39mNo global.Entity header found, but Entity= annotations are presents\u001b[39m\u001b[39m\"\u001b[39m)\n\u001b[1;32m    526\u001b[0m \u001b[39m# The Entity attribute may contain multiple entities, e.g.\u001b[39;00m\n\u001b[1;32m    527\u001b[0m \u001b[39m# Entity=(abstract-7-new-2-coref(abstract-3-giv:act-1-coref)\u001b[39;00m\n\u001b[1;32m    528\u001b[0m \u001b[39m# means a start of entity id=7 and start&end (i.e. single-word mention) of entity id=3.\u001b[39;00m\n\u001b[1;32m    529\u001b[0m \u001b[39m# The following re.split line splits this into\u001b[39;00m\n\u001b[1;32m    530\u001b[0m \u001b[39m# chunks = [\"(abstract-7-new-2-coref\", \"(abstract-3-giv:act-1-coref)\"]\u001b[39;00m\n\u001b[1;32m    531\u001b[0m chunks \u001b[39m=\u001b[39m [x \u001b[39mfor\u001b[39;00m x \u001b[39min\u001b[39;00m re\u001b[39m.\u001b[39msplit(\u001b[39mr\u001b[39m\u001b[39m'\u001b[39m\u001b[39m(\u001b[39m\u001b[39m\\\u001b[39m\u001b[39m([^()]+\u001b[39m\u001b[39m\\\u001b[39m\u001b[39m)?|[^()]+\u001b[39m\u001b[39m\\\u001b[39m\u001b[39m))\u001b[39m\u001b[39m'\u001b[39m, misc_entity) \u001b[39mif\u001b[39;00m x]\n",
      "\u001b[0;31mValueError\u001b[0m: No global.Entity header found, but Entity= annotations are presents"
     ]
    }
   ],
   "source": [
    "from collections import defaultdict\n",
    "\n",
    "def process_file(f):\n",
    "    doc = udapi.Document(f)\n",
    "    udapi.Document()\n",
    "    counts = defaultdict(int)\n",
    "    counts[\"entities[Stats]\"] = len(doc.coref_entities)\n",
    "    counts[\"mentions[Stats]\"] = len(doc.coref_mentions)\n",
    "    for node in doc.nodes:\n",
    "        for attr in node.misc:\n",
    "            if attr == \"name\":  # handle \"Outside\" entities\n",
    "                attrvalue = node.misc[attr]\n",
    "                if attrvalue == \"O\":\n",
    "                    continue\n",
    "            counts[attr + \"[MiscStats]\"] += 1\n",
    "    return counts\n",
    "\n",
    "f = \"/Users/tollef/Downloads/git/PHD/COREF/UD-NARC/NorNE/ud/nno/no_nynorsk-ud-dev.conllu\"\n",
    "f = \"sample.conllu\"\n",
    "process_file(f)"
   ]
  },
  {
   "cell_type": "code",
   "execution_count": 154,
   "metadata": {},
   "outputs": [
    {
     "ename": "KeyboardInterrupt",
     "evalue": "",
     "output_type": "error",
     "traceback": [
      "\u001b[0;31m---------------------------------------------------------------------------\u001b[0m",
      "\u001b[0;31mKeyboardInterrupt\u001b[0m                         Traceback (most recent call last)",
      "Cell \u001b[0;32mIn[154], line 7\u001b[0m\n\u001b[1;32m      5\u001b[0m \u001b[39mfor\u001b[39;00m conll_f \u001b[39min\u001b[39;00m os\u001b[39m.\u001b[39mlistdir(path):\n\u001b[1;32m      6\u001b[0m     \u001b[39mif\u001b[39;00m conll_f\u001b[39m.\u001b[39mendswith(\u001b[39m\"\u001b[39m\u001b[39m.conllu\u001b[39m\u001b[39m\"\u001b[39m):\n\u001b[0;32m----> 7\u001b[0m         _stats \u001b[39m=\u001b[39m process_file(os\u001b[39m.\u001b[39;49mpath\u001b[39m.\u001b[39;49mjoin(path, conll_f))\n\u001b[1;32m      8\u001b[0m         \u001b[39mfor\u001b[39;00m key, value \u001b[39min\u001b[39;00m _stats\u001b[39m.\u001b[39mitems():\n\u001b[1;32m      9\u001b[0m             stats[key] \u001b[39m+\u001b[39m\u001b[39m=\u001b[39m value\n",
      "Cell \u001b[0;32mIn[153], line 4\u001b[0m, in \u001b[0;36mprocess_file\u001b[0;34m(f)\u001b[0m\n\u001b[1;32m      3\u001b[0m \u001b[39mdef\u001b[39;00m \u001b[39mprocess_file\u001b[39m(f):\n\u001b[0;32m----> 4\u001b[0m     doc \u001b[39m=\u001b[39m udapi\u001b[39m.\u001b[39;49mDocument(f)\n\u001b[1;32m      5\u001b[0m     udapi\u001b[39m.\u001b[39mDocument()\n\u001b[1;32m      6\u001b[0m     counts \u001b[39m=\u001b[39m defaultdict(\u001b[39mint\u001b[39m)\n",
      "File \u001b[0;32m/opt/homebrew/lib/python3.11/site-packages/udapi/core/document.py:35\u001b[0m, in \u001b[0;36mDocument.__init__\u001b[0;34m(self, filename, **kwargs)\u001b[0m\n\u001b[1;32m     33\u001b[0m \u001b[39mif\u001b[39;00m filename \u001b[39mis\u001b[39;00m \u001b[39mnot\u001b[39;00m \u001b[39mNone\u001b[39;00m:\n\u001b[1;32m     34\u001b[0m     \u001b[39mif\u001b[39;00m filename\u001b[39m.\u001b[39mendswith(\u001b[39m\"\u001b[39m\u001b[39m.conllu\u001b[39m\u001b[39m\"\u001b[39m):\n\u001b[0;32m---> 35\u001b[0m         \u001b[39mself\u001b[39;49m\u001b[39m.\u001b[39;49mload_conllu(filename, \u001b[39m*\u001b[39;49m\u001b[39m*\u001b[39;49mkwargs)\n\u001b[1;32m     36\u001b[0m     \u001b[39melif\u001b[39;00m filename\u001b[39m.\u001b[39mendswith(\u001b[39m\"\u001b[39m\u001b[39m.txt\u001b[39m\u001b[39m\"\u001b[39m):\n\u001b[1;32m     37\u001b[0m         reader \u001b[39m=\u001b[39m SentencesReader(files\u001b[39m=\u001b[39mfilename, \u001b[39m*\u001b[39m\u001b[39m*\u001b[39mkwargs)\n",
      "File \u001b[0;32m/opt/homebrew/lib/python3.11/site-packages/udapi/core/document.py:68\u001b[0m, in \u001b[0;36mDocument.load_conllu\u001b[0;34m(self, filename, **kwargs)\u001b[0m\n\u001b[1;32m     66\u001b[0m \u001b[39mdef\u001b[39;00m \u001b[39mload_conllu\u001b[39m(\u001b[39mself\u001b[39m, filename\u001b[39m=\u001b[39m\u001b[39mNone\u001b[39;00m, \u001b[39m*\u001b[39m\u001b[39m*\u001b[39mkwargs):\n\u001b[1;32m     67\u001b[0m     \u001b[39m\"\"\"Load a document from a conllu-formatted file.\"\"\"\u001b[39;00m\n\u001b[0;32m---> 68\u001b[0m     ConlluReader(files\u001b[39m=\u001b[39;49mfilename, \u001b[39m*\u001b[39;49m\u001b[39m*\u001b[39;49mkwargs)\u001b[39m.\u001b[39;49mprocess_document(\u001b[39mself\u001b[39;49m)\n",
      "File \u001b[0;32m/opt/homebrew/lib/python3.11/site-packages/udapi/core/basereader.py:268\u001b[0m, in \u001b[0;36mBaseReader.process_document\u001b[0;34m(self, document)\u001b[0m\n\u001b[1;32m    266\u001b[0m \u001b[39mif\u001b[39;00m gc_was_enabled:\n\u001b[1;32m    267\u001b[0m     gc\u001b[39m.\u001b[39menable()\n\u001b[0;32m--> 268\u001b[0m     gc\u001b[39m.\u001b[39mcollect()\n",
      "\u001b[0;31mKeyboardInterrupt\u001b[0m: "
     ]
    }
   ],
   "source": [
    "import os\n",
    "for lang in [\"bokmaal\", \"nynorsk\"]:\n",
    "    path = \"annotations_conll_\" + lang\n",
    "    stats = defaultdict(int)\n",
    "    for conll_f in os.listdir(path):\n",
    "        if conll_f.endswith(\".conllu\"):\n",
    "            _stats = process_file(os.path.join(path, conll_f))\n",
    "            for key, value in _stats.items():\n",
    "                stats[key] += value\n",
    "    print(lang)\n",
    "    print(stats)\n",
    "            "
   ]
  },
  {
   "cell_type": "code",
   "execution_count": null,
   "metadata": {},
   "outputs": [],
   "source": [
    "for lang in [\"bokmaal\", \"nynorsk\"]:\n",
    "    path = \"annotations_conll_\" + lang\n",
    "    path = \n",
    "    stats = defaultdict(int)\n",
    "    for conll_f in os.listdir(path):\n",
    "        if conll_f.endswith(\".conllu\"):\n",
    "            _stats = process_file(os.path.join(path, conll_f))\n",
    "            for key, value in _stats.items():\n",
    "                stats[key] += value\n",
    "    print(lang)\n",
    "    print(stats)"
   ]
  }
 ],
 "metadata": {
  "kernelspec": {
   "display_name": "Python 3",
   "language": "python",
   "name": "python3"
  },
  "language_info": {
   "codemirror_mode": {
    "name": "ipython",
    "version": 3
   },
   "file_extension": ".py",
   "mimetype": "text/x-python",
   "name": "python",
   "nbconvert_exporter": "python",
   "pygments_lexer": "ipython3",
   "version": "3.11.0"
  },
  "orig_nbformat": 4,
  "vscode": {
   "interpreter": {
    "hash": "29f1e52c0d8d5e5ede6aaca4be8238d35b46afd62a3b8286547e2768de775769"
   }
  }
 },
 "nbformat": 4,
 "nbformat_minor": 2
}
