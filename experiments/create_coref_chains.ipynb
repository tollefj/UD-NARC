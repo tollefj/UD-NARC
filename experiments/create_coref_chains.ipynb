{
 "cells": [
  {
   "cell_type": "code",
   "execution_count": 1,
   "metadata": {},
   "outputs": [],
   "source": [
    "import conllu\n",
    "import os"
   ]
  },
  {
   "cell_type": "code",
   "execution_count": 26,
   "metadata": {},
   "outputs": [],
   "source": [
    "narc_path = \"../output/aligned/no-narc_bokmaal/narc_bokmaal_dev.conllu\"\n",
    "data = conllu.parse(open(narc_path, \"r\").read())"
   ]
  },
  {
   "cell_type": "code",
   "execution_count": 27,
   "metadata": {},
   "outputs": [],
   "source": [
    "# a new document will always start with \"newdoc id\" in the metadata field\n",
    "def is_new_doc(sample):\n",
    "    return \"newdoc id\" in sample.metadata\n",
    "# group all documents by their id.\n",
    "from collections import defaultdict\n",
    "grouped_docs = defaultdict(list)\n",
    "current_doc = None\n",
    "for sent in data:\n",
    "    if is_new_doc(sent):\n",
    "        current_doc = sent.metadata[\"newdoc id\"]\n",
    "    grouped_docs[current_doc].append(sent)"
   ]
  },
  {
   "cell_type": "code",
   "execution_count": 28,
   "metadata": {},
   "outputs": [
    {
     "data": {
      "text/plain": [
       "dict_keys(['ap~20050210-762251', 'ap~20081210-1411542', 'ap~20081210-1546270', 'ap~20081210-1564010', 'ap~20081210-1775472', 'ap~20090401-3010501', 'ap~20090803-3199497', 'ap~20090805-3202217', 'ap~20090825-3233467', 'ap~20090905-3252356', 'ap~20090911-3262518', 'ap~20091022-3333021', 'bt~BT-20120916-2765289a', 'db~20081117-3745306', 'db~20081118-3754590', 'db~20081118-3758669', 'db~20081118-3759012', 'db~20081128-3858534a', 'db~20081202-3901555', 'db~20081206-3954583', 'kk~20110826-59215', 'kk~20110827-59218', 'spbm~20050822-508220301', 'spbm~20050822-508220303', 'spbm~20050822-508220304', 'spbm~20050822-508220308', 'spbm~20050822-508220309', 'spbm~20050822-508220311', 'spbm~20050822-508220313', 'vg~VG-20121202-10056280', 'vg~VG-20121211-10071599'])"
      ]
     },
     "execution_count": 28,
     "metadata": {},
     "output_type": "execute_result"
    }
   ],
   "source": [
    "grouped_docs.keys()"
   ]
  },
  {
   "cell_type": "code",
   "execution_count": 29,
   "metadata": {},
   "outputs": [
    {
     "data": {
      "text/plain": [
       "[TokenList<Pinefull, død, for, den, irske, pub, ?, metadata={newdoc id: \"ap~20050210-762251\", global.Entity: \"eid-etype-head-other\", sent_id: \"016056\", text: \"Pinefull død for den irske pub?\"}>,\n",
       " TokenList<Irene, diskuterer, over, mørkebrunt, øl, ., metadata={newpar: \"None\", sent_id: \"016057\", text: \"Irene diskuterer over mørkebrunt øl.\"}>,\n",
       " TokenList<Micheál, Martin, er, på, alles, lepper, ., metadata={sent_id: \"016058\", text: \"Micheál Martin er på alles lepper.\"}>]"
      ]
     },
     "execution_count": 29,
     "metadata": {},
     "output_type": "execute_result"
    }
   ],
   "source": [
    "sample = grouped_docs[\"ap~20050210-762251\"]\n",
    "sample[:3]"
   ]
  },
  {
   "cell_type": "code",
   "execution_count": null,
   "metadata": {},
   "outputs": [],
   "source": [
    "# Step 1: Create a dictionary to store the reference IDs and their corresponding spans.\n",
    "references = {}\n"
   ]
  },
  {
   "cell_type": "code",
   "execution_count": 75,
   "metadata": {},
   "outputs": [
    {
     "name": "stdout",
     "output_type": "stream",
     "text": [
      "0 (1\n",
      "1 *\n",
      "2 1)(2)(3\n",
      "3 *\n",
      "4 *\n",
      "5 3)\n",
      "6 *\n",
      "7 *\n",
      "8 (1\n",
      "9 1)\n"
     ]
    },
    {
     "data": {
      "text/plain": [
       "[[(0, 2), (8, 9)], [(2, 2)], [(2, 5)]]"
      ]
     },
     "execution_count": 75,
     "metadata": {},
     "output_type": "execute_result"
    }
   ],
   "source": [
    "import re\n",
    "\n",
    "CONLL_MENTION_PATTERN = re.compile(\n",
    "    r'(?:\\((?P<mono>\\d+)\\)|\\((?P<start>\\d+)|(?P<end>\\d+)\\))')\n",
    "\n",
    "def compute_mentions(columns):\n",
    "    pending = defaultdict(list)\n",
    "    mentions = []\n",
    "    i = 0\n",
    "\n",
    "    for i, col in enumerate(columns):\n",
    "        for m in CONLL_MENTION_PATTERN.finditer(col):\n",
    "            if m.lastgroup == 'mono':\n",
    "                pos = (i, i+1)\n",
    "                chain = int(m.group(m.lastgroup))\n",
    "                mentions.append((pos, chain))\n",
    "            elif m.lastgroup == 'start':\n",
    "                chain = int(m.group(m.lastgroup))\n",
    "                if not chain in pending:\n",
    "                    pending[chain] = []\n",
    "                pending[chain].append(i)\n",
    "            elif m.lastgroup == 'end':\n",
    "                chain = int(m.group(m.lastgroup))\n",
    "                pos = (pending[chain].pop(), i+1)\n",
    "                mentions.append((pos, chain))\n",
    "            else:\n",
    "                assert False\n",
    "\n",
    "    return mentions\n",
    "\n",
    "def compute_chains(columns):\n",
    "    chains = dict()\n",
    "    for (start, stop), chain_id in compute_mentions(columns):\n",
    "        end = stop - 1\n",
    "        if chain_id not in chains:\n",
    "            chains[chain_id] = []\n",
    "        chains[chain_id].append((start, end))\n",
    "    return list(chains.values())\n",
    "\n",
    "columns = [\"(1\", \"*\", \"1)(2)(3\", \"*\", \"*\", \"3)\", \"*\", \"*\", \"(1\", \"1)\"]\n",
    "for i, c in enumerate(columns):\n",
    "    print(i, c)\n",
    "\n",
    "compute_chains(columns)\n"
   ]
  },
  {
   "cell_type": "code",
   "execution_count": null,
   "metadata": {},
   "outputs": [],
   "source": [
    "def build_references(ents):\n",
    "    # from a list of entities, [\"1)\", \"2)\"], build a dictionary of references\n",
    "    references = {}\n",
    "\n",
    "\n",
    "    return []"
   ]
  },
  {
   "cell_type": "code",
   "execution_count": 41,
   "metadata": {},
   "outputs": [
    {
     "name": "stdout",
     "output_type": "stream",
     "text": [
      "Pinefull 0 ['(1']\n",
      "død 1 None\n",
      "for 2 None\n",
      "den 3 ['(2']\n",
      "irske 4 None\n",
      "pub 5 ['2)', '1)']\n",
      "? 6 None\n",
      "Irene 7 ['(3)']\n",
      "diskuterer 8 None\n",
      "over 9 None\n",
      "mørkebrunt 10 ['(4']\n",
      "øl 11 ['4)']\n",
      ". 12 None\n",
      "Micheál 13 ['(5373']\n",
      "Martin 14 ['5373)']\n",
      "er 15 None\n",
      "på 16 None\n",
      "alles 17 ['(6']\n",
      "lepper 18 ['6)']\n",
      ". 19 None\n",
      "Helseministeren 20 ['(5373)']\n",
      "innfører 21 None\n",
      "totalt 22 ['(162447']\n",
      "røykeforbud 23 ['162447)']\n",
      "på 24 None\n",
      "pubene 25 ['(4514)']\n",
      "i 26 None\n",
      "morgen 27 ['(10)']\n",
      ". 28 None\n"
     ]
    }
   ],
   "source": [
    "from collections import defaultdict\n",
    "references = defaultdict(list)\n",
    "# parse a document:\n",
    "token_idx = 0\n",
    "for s_id, sent in enumerate(sample):\n",
    "    for token in sent:\n",
    "        misc = token.get(\"misc\", {})\n",
    "        ents = misc.get(\"Entity\", None)\n",
    "        if ents:\n",
    "            ents = ents.split(\"§\")\n",
    "        print(token, token_idx, ents)\n",
    "        token_idx += 1\n",
    "    if s_id > 2:\n",
    "        break\n",
    "    "
   ]
  },
  {
   "cell_type": "code",
   "execution_count": null,
   "metadata": {},
   "outputs": [],
   "source": []
  },
  {
   "cell_type": "code",
   "execution_count": 31,
   "metadata": {},
   "outputs": [],
   "source": [
    "from collections import defaultdict\n",
    "\n",
    "entities = defaultdict(list)\n",
    "# this is a list of lists, each being a mention tuple (start, end, entity_id)\n",
    "\n",
    "\n",
    "from collections import defaultdict\n",
    "grouped_docs = defaultdict(list)\n",
    "current_doc = None\n",
    "for sent in data:\n",
    "    if is_new_doc(sent):\n",
    "        current_doc = sent.metadata[\"newdoc id\"]\n",
    "    grouped_docs[current_doc].append(sent)"
   ]
  },
  {
   "cell_type": "code",
   "execution_count": null,
   "metadata": {},
   "outputs": [],
   "source": []
  }
 ],
 "metadata": {
  "kernelspec": {
   "display_name": "base",
   "language": "python",
   "name": "python3"
  },
  "language_info": {
   "codemirror_mode": {
    "name": "ipython",
    "version": 3
   },
   "file_extension": ".py",
   "mimetype": "text/x-python",
   "name": "python",
   "nbconvert_exporter": "python",
   "pygments_lexer": "ipython3",
   "version": "3.9.13"
  },
  "orig_nbformat": 4
 },
 "nbformat": 4,
 "nbformat_minor": 2
}
