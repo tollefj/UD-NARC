{
 "cells": [
  {
   "cell_type": "code",
   "execution_count": 1,
   "metadata": {},
   "outputs": [],
   "source": [
    "import udapi"
   ]
  },
  {
   "cell_type": "code",
   "execution_count": 2,
   "metadata": {},
   "outputs": [
    {
     "data": {
      "text/plain": [
       "defaultdict(int,\n",
       "            {'entities[Stats]': 0,\n",
       "             'mentions[Stats]': 0,\n",
       "             'SpaceAfter[MiscStats]': 3185,\n",
       "             'name[MiscStats]': 1751})"
      ]
     },
     "execution_count": 2,
     "metadata": {},
     "output_type": "execute_result"
    }
   ],
   "source": [
    "from collections import defaultdict\n",
    "\n",
    "def process_file(f):\n",
    "    doc = udapi.Document(f)\n",
    "    udapi.Document()\n",
    "    counts = defaultdict(int)\n",
    "    counts[\"entities[Stats]\"] = len(doc.coref_entities)\n",
    "    counts[\"mentions[Stats]\"] = len(doc.coref_mentions)\n",
    "    for node in doc.nodes:\n",
    "        for attr in node.misc:\n",
    "            if attr == \"name\":  # handle \"Outside\" entities\n",
    "                attrvalue = node.misc[attr]\n",
    "                if attrvalue == \"O\":\n",
    "                    continue\n",
    "            counts[attr + \"[MiscStats]\"] += 1\n",
    "    return counts\n",
    "\n",
    "f = \"/Users/tollef/Downloads/git/PHD/COREF/UD-NARC/NorNE/ud/nno/no_nynorsk-ud-dev.conllu\"\n",
    "process_file(f)"
   ]
  },
  {
   "cell_type": "code",
   "execution_count": 4,
   "metadata": {},
   "outputs": [
    {
     "name": "stdout",
     "output_type": "stream",
     "text": [
      "bokmaal\n",
      "defaultdict(<class 'int'>, {'entities[Stats]': 0, 'mentions[Stats]': 0, 'name[MiscStats]': 20134, 'SpaceAfter[MiscStats]': 34525})\n",
      "nynorsk\n",
      "defaultdict(<class 'int'>, {'entities[Stats]': 0, 'mentions[Stats]': 0, 'SpaceAfter[MiscStats]': 30772, 'name[MiscStats]': 20087})\n"
     ]
    }
   ],
   "source": [
    "import os\n",
    "for lang in [\"bokmaal\", \"nynorsk\"]:\n",
    "    _id = \"nob\" if lang == \"bokmaal\" else \"nno\"\n",
    "    path = \"NorNE/ud/\" + _id\n",
    "    stats = defaultdict(int)\n",
    "    for conll_f in os.listdir(path):\n",
    "        if conll_f.endswith(\".conllu\"):\n",
    "            _stats = process_file(os.path.join(path, conll_f))\n",
    "            for key, value in _stats.items():\n",
    "                stats[key] += value\n",
    "    print(lang)\n",
    "    print(stats)\n",
    "            "
   ]
  }
 ],
 "metadata": {
  "kernelspec": {
   "display_name": "Python 3",
   "language": "python",
   "name": "python3"
  },
  "language_info": {
   "codemirror_mode": {
    "name": "ipython",
    "version": 3
   },
   "file_extension": ".py",
   "mimetype": "text/x-python",
   "name": "python",
   "nbconvert_exporter": "python",
   "pygments_lexer": "ipython3",
   "version": "3.11.0"
  },
  "orig_nbformat": 4,
  "vscode": {
   "interpreter": {
    "hash": "29f1e52c0d8d5e5ede6aaca4be8238d35b46afd62a3b8286547e2768de775769"
   }
  }
 },
 "nbformat": 4,
 "nbformat_minor": 2
}
